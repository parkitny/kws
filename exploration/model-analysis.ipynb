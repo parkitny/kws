{
 "cells": [
  {
   "cell_type": "markdown",
   "id": "91512f00",
   "metadata": {},
   "source": [
    "From the confusion matrix, we can see that certain words are incorrectly predicted by the model frequently. \n",
    "\n",
    "\n",
    "These include: \n",
    "- `expect` dog -> `predicted` go \n",
    "\n",
    "- `expect` go -> `predicted` no\n",
    "\n",
    "- `expect` off -> `predicted` up"
   ]
  },
  {
   "cell_type": "code",
   "execution_count": null,
   "id": "7300769b",
   "metadata": {},
   "outputs": [],
   "source": [
    "import IPython.display as ipd\n",
    "import soundfile as sf\n",
    "import src\n",
    "from src.analysis import get_incorrect_predictions\n",
    "from pathlib import Path\n",
    "ckpt_path = '../lightning_logs/version_1/checkpoints/kws-res-epoch10-val_acc0.92.ckpt'\n",
    "params_fn = '../params.yaml'\n",
    "data_path = '../data/raw'\n",
    "n_playbacks = 5\n",
    "def render_audio(samples):\n",
    "    for idx in range(len(samples)):\n",
    "        waveform, sample_rate = sf.read(samples[idx])\n",
    "        sound = ipd.Audio(waveform, rate=sample_rate)\n",
    "        ipd.display(sound)"
   ]
  },
  {
   "cell_type": "markdown",
   "id": "55fdd8f2",
   "metadata": {},
   "source": [
    "# Expected dog, predicted go"
   ]
  },
  {
   "cell_type": "code",
   "execution_count": null,
   "id": "39c5e1bc",
   "metadata": {},
   "outputs": [],
   "source": [
    "dog_go = get_incorrect_predictions(\n",
    "    expected='dog', \n",
    "    predicted='go', \n",
    "    split='test', \n",
    "    ckpt_path=ckpt_path,\n",
    "    params_fn=params_fn,\n",
    "    data_path=data_path)\n",
    "dog_go_samples = [(Path(data_path) / 'SpeechCommands' / sample).as_posix() for sample in dog_go][:n_playbacks]\n",
    "render_audio(dog_go_samples)"
   ]
  },
  {
   "cell_type": "markdown",
   "id": "2c6ffa56",
   "metadata": {},
   "source": [
    "# Expected go, predicted no"
   ]
  },
  {
   "cell_type": "code",
   "execution_count": null,
   "id": "ab09a71d",
   "metadata": {},
   "outputs": [],
   "source": [
    "go_no = get_incorrect_predictions(\n",
    "    expected='go', \n",
    "    predicted='no', \n",
    "    split='test', \n",
    "    ckpt_path=ckpt_path,\n",
    "    params_fn=params_fn,\n",
    "    data_path=data_path)\n",
    "go_no_samples = [(Path(data_path) / 'SpeechCommands' / sample).as_posix() for sample in go_no][:n_playbacks]\n",
    "render_audio(go_no_samples)"
   ]
  },
  {
   "cell_type": "markdown",
   "id": "cfcbf091",
   "metadata": {},
   "source": [
    "# Expected off, predicted up"
   ]
  },
  {
   "cell_type": "code",
   "execution_count": null,
   "id": "07168d08",
   "metadata": {},
   "outputs": [],
   "source": [
    "off_up = get_incorrect_predictions(\n",
    "    expected='off', \n",
    "    predicted='up', \n",
    "    split='test', \n",
    "    ckpt_path=ckpt_path,\n",
    "    params_fn=params_fn,\n",
    "    data_path=data_path)\n",
    "off_up_samples = [(Path(data_path) / 'SpeechCommands' / sample).as_posix() for sample in off_up][:n_playbacks]\n",
    "render_audio(off_up_samples)"
   ]
  },
  {
   "cell_type": "markdown",
   "id": "51618abc",
   "metadata": {},
   "source": [
    "# Discussion"
   ]
  },
  {
   "cell_type": "markdown",
   "id": "e885e0f8",
   "metadata": {},
   "source": [
    "By listening to some of the samples, it's evident that some of the sounds do sound like the incorrectly predicted label (not all of them but many). To mitigate this, it'd be worthwhile increasing the n_mfcc parameter to capture more MFCC coefficients, thus increasing the number of features which may potentially enable the model to predict these samples better."
   ]
  }
 ],
 "metadata": {
  "kernelspec": {
   "display_name": "Python 3 (ipykernel)",
   "language": "python",
   "name": "python3"
  },
  "language_info": {
   "codemirror_mode": {
    "name": "ipython",
    "version": 3
   },
   "file_extension": ".py",
   "mimetype": "text/x-python",
   "name": "python",
   "nbconvert_exporter": "python",
   "pygments_lexer": "ipython3",
   "version": "3.10.8"
  },
  "vscode": {
   "interpreter": {
    "hash": "16df63f9886b03355b95341ba11309745c78a78e84ae25bac1a36fcfa307a813"
   }
  }
 },
 "nbformat": 4,
 "nbformat_minor": 5
}
